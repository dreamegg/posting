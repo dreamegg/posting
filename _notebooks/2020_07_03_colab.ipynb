{
  "nbformat": 4,
  "nbformat_minor": 0,
  "metadata": {
    "colab": {
      "name": "2020-07-03-colab.ipynb",
      "provenance": [],
      "collapsed_sections": [],
      "authorship_tag": "ABX9TyNQoHXAe/cP8V+1BDsPmlLx",
      "include_colab_link": true
    },
    "kernelspec": {
      "name": "python3",
      "display_name": "Python 3"
    }
  },
  "cells": [
    {
      "cell_type": "markdown",
      "metadata": {
        "id": "view-in-github",
        "colab_type": "text"
      },
      "source": [
        "<a href=\"https://colab.research.google.com/github/dreamegg/posting/blob/master/_notebooks/2020_07_03_colab.ipynb\" target=\"_parent\"><img src=\"https://colab.research.google.com/assets/colab-badge.svg\" alt=\"Open In Colab\"/></a>"
      ]
    },
    {
      "cell_type": "markdown",
      "metadata": {
        "id": "pgWQDDNJgw-h",
        "colab_type": "text"
      },
      "source": [
        "코랩으로는 어디까지 할 수 있나..."
      ]
    },
    {
      "cell_type": "code",
      "metadata": {
        "id": "ojW_qZKkgkDl",
        "colab_type": "code",
        "colab": {}
      },
      "source": [
        ""
      ],
      "execution_count": null,
      "outputs": []
    },
    {
      "cell_type": "markdown",
      "metadata": {
        "id": "Jrr99uqjgs4c",
        "colab_type": "text"
      },
      "source": [
        ""
      ]
    }
  ]
}